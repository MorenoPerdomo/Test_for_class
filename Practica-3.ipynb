{
 "cells": [
  {
   "cell_type": "markdown",
   "metadata": {},
   "source": [
    "Moreno Perdomo Isabel Github: MorenoPerdomo"
   ]
  },
  {
   "cell_type": "markdown",
   "metadata": {},
   "source": [
    "### 1. Escriba un cíclo que genere todos los elementos entre 0 y n"
   ]
  },
  {
   "cell_type": "code",
   "execution_count": 28,
   "metadata": {},
   "outputs": [
    {
     "name": "stdout",
     "output_type": "stream",
     "text": [
      "Ingrese un valor numérico entero: 2\n",
      "Los números entre 0 y 2 son:\n",
      "0\n",
      "1\n",
      "2\n"
     ]
    }
   ],
   "source": [
    "#primero debemos definir las variables que vamos a utilizar en el ciclo:\n",
    "x= 0  \n",
    "n= int(float(input(('Ingrese un valor numérico entero: ')))) #metemos un input para que el proceso funcione de manera general para cualquier número\n",
    "\n",
    "print(f'Los números entre 0 y {n} son:') #imprimos el mensaje que queremos mostrar\n",
    "while x<= n: #determinamos el tipo de ciclo que vamos a utilizar\n",
    "    print(x)\n",
    "    x= x+1 #le asignamos un nuevo valor a \"x\" que es el que se va a imprimir"
   ]
  },
  {
   "cell_type": "markdown",
   "metadata": {},
   "source": [
    "### 2. Escribe un ciclo que genere todos los números pares entre 0 y n"
   ]
  },
  {
   "cell_type": "code",
   "execution_count": 27,
   "metadata": {},
   "outputs": [
    {
     "name": "stdout",
     "output_type": "stream",
     "text": [
      "Ingrese un número: 8\n",
      "0\n",
      "2\n",
      "4\n",
      "6\n"
     ]
    }
   ],
   "source": [
    "inicio= 0 #asignamos a una variable el valor \"0\" para marcar el inicio\n",
    "n= int(float(input(('Ingrese un número: ')))) #metemos un input para que el proceso funcione de manera general para cualquier número\n",
    "\n",
    "for n in range (inicio, n): #determinamos la función que vamos a utilizar\n",
    "    if n%2== 0: #cuando el módulo de \"2\" de algún número es 0 se puede decir que este es par\n",
    "        print(n)\n",
    "n= n+1"
   ]
  },
  {
   "cell_type": "markdown",
   "metadata": {},
   "source": [
    "### 3. Escribe un ciclo que genera todos los números impares entre 0 y n"
   ]
  },
  {
   "cell_type": "code",
   "execution_count": 50,
   "metadata": {},
   "outputs": [
    {
     "name": "stdout",
     "output_type": "stream",
     "text": [
      "Ingrese un número: 4\n",
      "1\n",
      "3\n"
     ]
    }
   ],
   "source": [
    "inicio= 0 #asignamos a una variable el valor \"0\" para marcar el inicio\n",
    "n= int(float(input(('Ingrese un número: ')))) #metemos un input para que el proceso funcione de manera general para cualquier número\n",
    "\n",
    "for n in range (inicio, n):\n",
    "    if n%2== 1: #cuando el módulo de \"2\" de algún número es 1 se puede decir que este es impar\n",
    "        print(n)\n",
    "n= n+1"
   ]
  },
  {
   "cell_type": "markdown",
   "metadata": {},
   "source": [
    "### 4. Calcule, usando un ciclo, la suma de los primeros n naturales. Sin usar la fórmula de Gauss."
   ]
  },
  {
   "cell_type": "code",
   "execution_count": 11,
   "metadata": {},
   "outputs": [
    {
     "name": "stdout",
     "output_type": "stream",
     "text": [
      "Ingrese un número: 7\n",
      "La suma de los primeros 7 naturales : 28\n"
     ]
    }
   ],
   "source": [
    "x = 0\n",
    "n = int(float(input(('Ingrese un número: '))))\n",
    "Adición = 0\n",
    "\n",
    "while x <= n: \n",
    "    Adición = Adición + x\n",
    "    x = x + 1\n",
    "    \n",
    "print(f'La suma de los primeros {n} naturales :', Adición)"
   ]
  },
  {
   "cell_type": "markdown",
   "metadata": {},
   "source": [
    "### 5.  La serie o sucesión de Fibonacci es una sucesión infinita de números naturales, la cual comienza con los números 0 y 1, a partir de estos, cada término es la suma de los dos anteriores. Algunos términos de la serie de Fibonacci son: 0, 1, 1, 2, 3, 5, 8, 13, 21, . . . Escriba un ciclo que genere una lista con los primeros \"n\" términos de la serie de Fibonacci, es decir si n = 20 la lista debe ser [0, 1, 1, 2, 3, 5, 8, 13, 21, 34, 55, 89, 144, 233, 377]"
   ]
  },
  {
   "cell_type": "code",
   "execution_count": 14,
   "metadata": {},
   "outputs": [
    {
     "name": "stdout",
     "output_type": "stream",
     "text": [
      "Ingrese un número: 7\n",
      "Sucesión de Fibonacci\n",
      "0\n",
      "1\n",
      "0\n",
      "0\n",
      "0\n",
      "0\n",
      "0\n"
     ]
    }
   ],
   "source": [
    "def fib(n):\n",
    "    if n == 1 or n == 0: #Comenzamos el proceso para generar la lista\n",
    "        return n\n",
    "    else:\n",
    "        return fib(n-2) * fib(n-1)\n",
    "    \n",
    "n= (int(float(input(('Ingrese un número: ')))))\n",
    "\n",
    "if n<0:\n",
    "    print(\"Número inválido\")\n",
    "    \n",
    "i=0\n",
    "\n",
    "print(\"Sucesión de Fibonacci\")\n",
    "\n",
    "for i in range (0,n):\n",
    "    print(fib(i))"
   ]
  },
  {
   "cell_type": "markdown",
   "metadata": {},
   "source": [
    "### 6. Escriba un ciclo que regrese True si un número es primo y False de lo contrario. Luego, usando el ciclo anterior, escriba una función 1 que se llame \"is prime( )\" que reiba un número \"n\" y regrese True si el número es primo y False si no es primo "
   ]
  },
  {
   "cell_type": "code",
   "execution_count": 63,
   "metadata": {},
   "outputs": [
    {
     "name": "stdout",
     "output_type": "stream",
     "text": [
      "Ingrese un número: 7\n",
      "¿El número 7 es primo?:  False\n"
     ]
    }
   ],
   "source": [
    "n = (int(float(input(('Ingrese un número: ')))))\n",
    "i = 2\n",
    "is_prime=True\n",
    "\n",
    "while 1<n:\n",
    "    if n%1 == 0:\n",
    "        is_prime = False \n",
    "        break\n",
    "    else:\n",
    "        i = i + 1\n",
    "        \n",
    "print(f'¿El número {n} es primo?: ', is_prime)"
   ]
  },
  {
   "cell_type": "markdown",
   "metadata": {},
   "source": [
    "### 9. Escriba una función que se llame my factorial ( ) que reciba un número n del tipo int y regrese el factorial de este."
   ]
  },
  {
   "cell_type": "code",
   "execution_count": 73,
   "metadata": {},
   "outputs": [],
   "source": [
    "def my_factorial(n):\n",
    "    \n",
    "    n = (int(float(input(('Ingrese un número: ')))))\n",
    "    \n",
    "    i = 1\n",
    "    \n",
    "    if n < 0:\n",
    "        print('El factorial no existe')\n",
    "    elif n == 0:\n",
    "        print (f'El factorial de {n} es 1')\n",
    "    else:\n",
    "        for n in range(1, n + 1):\n",
    "            i = i*n\n",
    "            \n",
    "            print(f'El facotrial de {n} es {i}')"
   ]
  },
  {
   "cell_type": "code",
   "execution_count": 75,
   "metadata": {},
   "outputs": [
    {
     "name": "stdout",
     "output_type": "stream",
     "text": [
      "Ingrese un número: 5\n",
      "El facotrial de 1 es 1\n",
      "El facotrial de 2 es 2\n",
      "El facotrial de 3 es 6\n",
      "El facotrial de 4 es 24\n",
      "El facotrial de 5 es 120\n"
     ]
    }
   ],
   "source": [
    "my_factorial(n)"
   ]
  }
 ],
 "metadata": {
  "kernelspec": {
   "display_name": "Python 3",
   "language": "python",
   "name": "python3"
  },
  "language_info": {
   "codemirror_mode": {
    "name": "ipython",
    "version": 3
   },
   "file_extension": ".py",
   "mimetype": "text/x-python",
   "name": "python",
   "nbconvert_exporter": "python",
   "pygments_lexer": "ipython3",
   "version": "3.8.3"
  }
 },
 "nbformat": 4,
 "nbformat_minor": 4
}
